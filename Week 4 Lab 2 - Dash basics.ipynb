{
 "cells": [
  {
   "cell_type": "code",
   "execution_count": 1,
   "id": "d930256c",
   "metadata": {},
   "outputs": [
    {
     "name": "stdout",
     "output_type": "stream",
     "text": [
      "Requirement already satisfied: jupyter_dash in /Applications/anaconda3/lib/python3.8/site-packages (0.4.0)\n",
      "Requirement already satisfied: requests in /Applications/anaconda3/lib/python3.8/site-packages (from jupyter_dash) (2.25.1)\n",
      "Requirement already satisfied: ipykernel in /Applications/anaconda3/lib/python3.8/site-packages (from jupyter_dash) (5.3.4)\n",
      "Requirement already satisfied: retrying in /Applications/anaconda3/lib/python3.8/site-packages (from jupyter_dash) (1.3.3)\n",
      "Requirement already satisfied: ipython in /Applications/anaconda3/lib/python3.8/site-packages (from jupyter_dash) (7.22.0)\n",
      "Requirement already satisfied: ansi2html in /Applications/anaconda3/lib/python3.8/site-packages (from jupyter_dash) (1.6.0)\n",
      "Requirement already satisfied: flask in /Applications/anaconda3/lib/python3.8/site-packages (from jupyter_dash) (1.1.2)\n",
      "Requirement already satisfied: dash in /Applications/anaconda3/lib/python3.8/site-packages (from jupyter_dash) (2.0.0)\n",
      "Requirement already satisfied: dash-html-components==2.0.0 in /Applications/anaconda3/lib/python3.8/site-packages (from dash->jupyter_dash) (2.0.0)\n",
      "Requirement already satisfied: flask-compress in /Applications/anaconda3/lib/python3.8/site-packages (from dash->jupyter_dash) (1.10.1)\n",
      "Requirement already satisfied: dash-core-components==2.0.0 in /Applications/anaconda3/lib/python3.8/site-packages (from dash->jupyter_dash) (2.0.0)\n",
      "Requirement already satisfied: dash-table==5.0.0 in /Applications/anaconda3/lib/python3.8/site-packages (from dash->jupyter_dash) (5.0.0)\n",
      "Requirement already satisfied: plotly>=5.0.0 in /Applications/anaconda3/lib/python3.8/site-packages (from dash->jupyter_dash) (5.4.0)\n",
      "Requirement already satisfied: click>=5.1 in /Applications/anaconda3/lib/python3.8/site-packages (from flask->jupyter_dash) (7.1.2)\n",
      "Requirement already satisfied: Jinja2>=2.10.1 in /Applications/anaconda3/lib/python3.8/site-packages (from flask->jupyter_dash) (2.11.3)\n",
      "Requirement already satisfied: itsdangerous>=0.24 in /Applications/anaconda3/lib/python3.8/site-packages (from flask->jupyter_dash) (1.1.0)\n",
      "Requirement already satisfied: Werkzeug>=0.15 in /Applications/anaconda3/lib/python3.8/site-packages (from flask->jupyter_dash) (1.0.1)\n",
      "Requirement already satisfied: MarkupSafe>=0.23 in /Applications/anaconda3/lib/python3.8/site-packages (from Jinja2>=2.10.1->flask->jupyter_dash) (1.1.1)\n",
      "Requirement already satisfied: tenacity>=6.2.0 in /Applications/anaconda3/lib/python3.8/site-packages (from plotly>=5.0.0->dash->jupyter_dash) (8.0.1)\n",
      "Requirement already satisfied: six in /Applications/anaconda3/lib/python3.8/site-packages (from plotly>=5.0.0->dash->jupyter_dash) (1.15.0)\n",
      "Requirement already satisfied: brotli in /Applications/anaconda3/lib/python3.8/site-packages (from flask-compress->dash->jupyter_dash) (1.0.9)\n",
      "Requirement already satisfied: appnope in /Applications/anaconda3/lib/python3.8/site-packages (from ipykernel->jupyter_dash) (0.1.2)\n",
      "Requirement already satisfied: tornado>=4.2 in /Applications/anaconda3/lib/python3.8/site-packages (from ipykernel->jupyter_dash) (6.1)\n",
      "Requirement already satisfied: traitlets>=4.1.0 in /Applications/anaconda3/lib/python3.8/site-packages (from ipykernel->jupyter_dash) (5.0.5)\n",
      "Requirement already satisfied: jupyter-client in /Applications/anaconda3/lib/python3.8/site-packages (from ipykernel->jupyter_dash) (6.1.12)\n",
      "Requirement already satisfied: decorator in /Applications/anaconda3/lib/python3.8/site-packages (from ipython->jupyter_dash) (5.0.6)\n",
      "Requirement already satisfied: backcall in /Applications/anaconda3/lib/python3.8/site-packages (from ipython->jupyter_dash) (0.2.0)\n",
      "Requirement already satisfied: setuptools>=18.5 in /Applications/anaconda3/lib/python3.8/site-packages (from ipython->jupyter_dash) (52.0.0.post20210125)\n",
      "Requirement already satisfied: pexpect>4.3 in /Applications/anaconda3/lib/python3.8/site-packages (from ipython->jupyter_dash) (4.8.0)\n",
      "Requirement already satisfied: prompt-toolkit!=3.0.0,!=3.0.1,<3.1.0,>=2.0.0 in /Applications/anaconda3/lib/python3.8/site-packages (from ipython->jupyter_dash) (3.0.17)\n",
      "Requirement already satisfied: pickleshare in /Applications/anaconda3/lib/python3.8/site-packages (from ipython->jupyter_dash) (0.7.5)\n",
      "Requirement already satisfied: pygments in /Applications/anaconda3/lib/python3.8/site-packages (from ipython->jupyter_dash) (2.8.1)\n",
      "Requirement already satisfied: jedi>=0.16 in /Applications/anaconda3/lib/python3.8/site-packages (from ipython->jupyter_dash) (0.17.2)\n",
      "Requirement already satisfied: parso<0.8.0,>=0.7.0 in /Applications/anaconda3/lib/python3.8/site-packages (from jedi>=0.16->ipython->jupyter_dash) (0.7.0)\n",
      "Requirement already satisfied: ptyprocess>=0.5 in /Applications/anaconda3/lib/python3.8/site-packages (from pexpect>4.3->ipython->jupyter_dash) (0.7.0)\n",
      "Requirement already satisfied: wcwidth in /Applications/anaconda3/lib/python3.8/site-packages (from prompt-toolkit!=3.0.0,!=3.0.1,<3.1.0,>=2.0.0->ipython->jupyter_dash) (0.2.5)\n",
      "Requirement already satisfied: ipython-genutils in /Applications/anaconda3/lib/python3.8/site-packages (from traitlets>=4.1.0->ipykernel->jupyter_dash) (0.2.0)\n",
      "Requirement already satisfied: jupyter-core>=4.6.0 in /Applications/anaconda3/lib/python3.8/site-packages (from jupyter-client->ipykernel->jupyter_dash) (4.7.1)\n",
      "Requirement already satisfied: python-dateutil>=2.1 in /Applications/anaconda3/lib/python3.8/site-packages (from jupyter-client->ipykernel->jupyter_dash) (2.8.1)\n",
      "Requirement already satisfied: pyzmq>=13 in /Applications/anaconda3/lib/python3.8/site-packages (from jupyter-client->ipykernel->jupyter_dash) (20.0.0)\n",
      "Requirement already satisfied: chardet<5,>=3.0.2 in /Applications/anaconda3/lib/python3.8/site-packages (from requests->jupyter_dash) (4.0.0)\n",
      "Requirement already satisfied: urllib3<1.27,>=1.21.1 in /Applications/anaconda3/lib/python3.8/site-packages (from requests->jupyter_dash) (1.26.4)\n",
      "Requirement already satisfied: certifi>=2017.4.17 in /Applications/anaconda3/lib/python3.8/site-packages (from requests->jupyter_dash) (2020.12.5)\n",
      "Requirement already satisfied: idna<3,>=2.5 in /Applications/anaconda3/lib/python3.8/site-packages (from requests->jupyter_dash) (2.10)\n"
     ]
    }
   ],
   "source": [
    "!pip install jupyter_dash"
   ]
  },
  {
   "cell_type": "code",
   "execution_count": 2,
   "id": "b201377b",
   "metadata": {},
   "outputs": [],
   "source": [
    "# Import required packages\n",
    "import pandas as pd\n",
    "import plotly.express as px\n",
    "import dash\n",
    "from dash import html\n",
    "from dash import dcc\n",
    "from jupyter_dash import JupyterDash"
   ]
  },
  {
   "cell_type": "code",
   "execution_count": 3,
   "id": "dd5952bc",
   "metadata": {},
   "outputs": [
    {
     "data": {
      "text/html": [
       "\n",
       "        <iframe\n",
       "            width=\"100%\"\n",
       "            height=\"650\"\n",
       "            src=\"http://0.0.0.0:1005/\"\n",
       "            frameborder=\"0\"\n",
       "            allowfullscreen\n",
       "        ></iframe>\n",
       "        "
      ],
      "text/plain": [
       "<IPython.lib.display.IFrame at 0x7fad2da51850>"
      ]
     },
     "metadata": {},
     "output_type": "display_data"
    }
   ],
   "source": [
    "# Read the airline data into pandas dataframe\n",
    "airline_data =  pd.read_csv('https://cf-courses-data.s3.us.cloud-object-storage.appdomain.cloud/IBMDeveloperSkillsNetwork-DV0101EN-SkillsNetwork/Data%20Files/airline_data.csv', \n",
    "                            encoding = \"ISO-8859-1\",\n",
    "                            dtype={'Div1Airport': str, 'Div1TailNum': str, \n",
    "                                   'Div2Airport': str, 'Div2TailNum': str})\n",
    "\n",
    "# Randomly sample 500 data points. Setting the random state to be 42 so that we get same result.\n",
    "data = airline_data.sample(n=500, random_state=42)\n",
    "\n",
    "# Pie Chart Creation\n",
    "fig = px.pie(data, values='Flights', names='DistanceGroup', title='Distance group proportion by flights')\n",
    "\n",
    "# Create a dash application\n",
    "app = JupyterDash(__name__)\n",
    "\n",
    "# Get the layout of the application and adjust it.\n",
    "# Create an outer division using html.Div and add title to the dashboard using html.H1 component\n",
    "# Add description about the graph using HTML P (paragraph) component\n",
    "# Finally, add graph component.\n",
    "app.layout = html.Div(children=[html.H1('Airline Dashboard', style={'textAlign': 'center', 'color': '#503D36', 'font-size': 40}),\n",
    "                                html.P('Proportion of distance group (250 mile distance interval group) by flights.', \n",
    "                                style={'textAlign':'center', 'color': '#F57241'}),\n",
    "                                dcc.Graph(figure=fig),\n",
    "                                               \n",
    "                    ])\n",
    "\n",
    "# Run the application                   \n",
    "if __name__ == '__main__':\n",
    "    app.run_server(mode = 'inline', host = '0.0.0.0', port = 1005)"
   ]
  },
  {
   "cell_type": "code",
   "execution_count": null,
   "id": "30279e6d",
   "metadata": {},
   "outputs": [],
   "source": []
  }
 ],
 "metadata": {
  "kernelspec": {
   "display_name": "Python 3",
   "language": "python",
   "name": "python3"
  },
  "language_info": {
   "codemirror_mode": {
    "name": "ipython",
    "version": 3
   },
   "file_extension": ".py",
   "mimetype": "text/x-python",
   "name": "python",
   "nbconvert_exporter": "python",
   "pygments_lexer": "ipython3",
   "version": "3.8.8"
  }
 },
 "nbformat": 4,
 "nbformat_minor": 5
}
